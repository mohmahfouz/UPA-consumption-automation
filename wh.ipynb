{
 "cells": [
  {
   "cell_type": "code",
   "execution_count": 56,
   "id": "1f68465e",
   "metadata": {},
   "outputs": [],
   "source": [
    "import pandas as pd\n",
    "import pyperclip\n",
    "import pyautogui as pg\n",
    "import upa"
   ]
  },
  {
   "cell_type": "code",
   "execution_count": 57,
   "id": "686c7310",
   "metadata": {},
   "outputs": [
    {
     "data": {
      "text/plain": [
       "Point(x=323, y=126)"
      ]
     },
     "execution_count": 57,
     "metadata": {},
     "output_type": "execute_result"
    }
   ],
   "source": [
    "pg.position()"
   ]
  },
  {
   "cell_type": "code",
   "execution_count": 58,
   "id": "caadafdd",
   "metadata": {},
   "outputs": [],
   "source": [
    "#upa.openupa()"
   ]
  },
  {
   "cell_type": "code",
   "execution_count": 59,
   "id": "bf5f90d5",
   "metadata": {},
   "outputs": [],
   "source": [
    "df = pd.read_excel('wh_content.xlsx',usecols='B,E')\n",
    "df.dropna(inplace=True)\n",
    "df.columns=['amount','items']\n",
    "df.drop(df.index[0],axis=0,inplace=True)\n",
    "df.reset_index(drop=True,inplace=True)\n",
    "df=df[['items','amount']]\n"
   ]
  },
  {
   "cell_type": "code",
   "execution_count": 60,
   "id": "41357729",
   "metadata": {},
   "outputs": [
    {
     "ename": "TypeError",
     "evalue": "int() argument must be a string, a bytes-like object or a number, not 'NoneType'",
     "output_type": "error",
     "traceback": [
      "\u001b[0;31m---------------------------------------------------------------------------\u001b[0m",
      "\u001b[0;31mTypeError\u001b[0m                                 Traceback (most recent call last)",
      "\u001b[1;32m/home/user/Downloads/mywork/upa/UPA_wh/wh.ipynb Cell 5'\u001b[0m in \u001b[0;36m<cell line: 3>\u001b[0;34m()\u001b[0m\n\u001b[1;32m     <a href='vscode-notebook-cell:/home/user/Downloads/mywork/upa/UPA_wh/wh.ipynb#ch0000003?line=9'>10</a>\u001b[0m \u001b[39m#print(df_drug.reset_index())\u001b[39;00m\n\u001b[1;32m     <a href='vscode-notebook-cell:/home/user/Downloads/mywork/upa/UPA_wh/wh.ipynb#ch0000003?line=10'>11</a>\u001b[0m \u001b[39mif\u001b[39;00m df_drug\u001b[39m.\u001b[39mcount()[\u001b[39m0\u001b[39m] \u001b[39m>\u001b[39m \u001b[39m1\u001b[39m:\n\u001b[0;32m---> <a href='vscode-notebook-cell:/home/user/Downloads/mywork/upa/UPA_wh/wh.ipynb#ch0000003?line=11'>12</a>\u001b[0m     drug_number \u001b[39m=\u001b[39m \u001b[39mint\u001b[39;49m(pg\u001b[39m.\u001b[39;49mprompt(df_drug))\n\u001b[1;32m     <a href='vscode-notebook-cell:/home/user/Downloads/mywork/upa/UPA_wh/wh.ipynb#ch0000003?line=12'>13</a>\u001b[0m \u001b[39melse\u001b[39;00m:\n\u001b[1;32m     <a href='vscode-notebook-cell:/home/user/Downloads/mywork/upa/UPA_wh/wh.ipynb#ch0000003?line=13'>14</a>\u001b[0m     drug_number \u001b[39m=\u001b[39m \u001b[39m0\u001b[39m\n",
      "\u001b[0;31mTypeError\u001b[0m: int() argument must be a string, a bytes-like object or a number, not 'NoneType'"
     ]
    }
   ],
   "source": [
    "chosen=''\n",
    "while True: \n",
    "    drugremaining=(pg.prompt('drug,remaining? we have done {}'.format(chosen))).split(',')\n",
    "    drug=drugremaining[0]\n",
    "        \n",
    "        \n",
    "    df_drug= df[df['items'].str.contains(drug, case=False, regex=True)]\n",
    "    df_drug.reset_index(drop=True,inplace=True)\n",
    "    \n",
    "    #print(df_drug.reset_index())\n",
    "    if df_drug.count()[0] > 1:\n",
    "        drug_number = int(pg.prompt(df_drug))\n",
    "    else:\n",
    "        drug_number = 0\n",
    "    \n",
    "    chosen = df_drug.iloc[drug_number][0]\n",
    "    stock = df_drug.iloc[drug_number][1]\n",
    "    \n",
    "    if len(drugremaining) >1:\n",
    "        remaining=int(drugremaining[1])\n",
    "    else:\n",
    "        remaining=stock\n",
    "    \n",
    "    consumption = stock-remaining\n",
    "    \n",
    "        \n",
    "    if consumption == 0:\n",
    "        pg.alert('no consumption for {} '.format(chosen)) \n",
    "    else: \n",
    "        response = pg.confirm('consumption = {}'.format(consumption),buttons=['notfirsttime','firsttime','copy','cancel'])\n",
    "        if response !='cancel':\n",
    "            if response =='copy':\n",
    "                pyperclip.copy(chosen)\n",
    "            else: \n",
    "                if response =='firsttime':\n",
    "                    firsttime=True\n",
    "                elif response == 'notfirsttime':\n",
    "                    firsttime=False\n",
    "                upa.type_drug(chosen,str(consumption),firsttime)\n",
    "                pg.sleep(3) \n",
    "            \n",
    "        pg.hotkey('alt','4')"
   ]
  },
  {
   "cell_type": "code",
   "execution_count": null,
   "id": "9ce4bbd5",
   "metadata": {},
   "outputs": [
    {
     "data": {
      "text/plain": [
       "Point(x=1049, y=149)"
      ]
     },
     "execution_count": 22,
     "metadata": {},
     "output_type": "execute_result"
    }
   ],
   "source": [
    "pg.position()"
   ]
  },
  {
   "cell_type": "code",
   "execution_count": null,
   "id": "b0f490d6",
   "metadata": {},
   "outputs": [],
   "source": []
  }
 ],
 "metadata": {
  "kernelspec": {
   "display_name": "Python 3 (ipykernel)",
   "language": "python",
   "name": "python3"
  },
  "language_info": {
   "codemirror_mode": {
    "name": "ipython",
    "version": 3
   },
   "file_extension": ".py",
   "mimetype": "text/x-python",
   "name": "python",
   "nbconvert_exporter": "python",
   "pygments_lexer": "ipython3",
   "version": "3.9.12"
  },
  "vscode": {
   "interpreter": {
    "hash": "1448b48b023bcc9c3d4a79e814720a10ca6d4244f75e0f7ce4af58f96ba2b7d3"
   }
  }
 },
 "nbformat": 4,
 "nbformat_minor": 5
}
