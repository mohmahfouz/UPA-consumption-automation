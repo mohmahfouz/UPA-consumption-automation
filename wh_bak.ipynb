{
 "cells": [
  {
   "cell_type": "code",
   "execution_count": 1,
   "id": "1f68465e",
   "metadata": {},
   "outputs": [],
   "source": [
    "import pandas as pd\n",
    "import pyperclip\n",
    "\n",
    "df = pd.read_excel('wh_content.xlsx')\n",
    "df.columns=['items','amount']\n",
    "\n",
    "def copy_drug(drug):\n",
    "        df_drug= df[df['items'].str.contains(drug, case=False, regex=True)]\n",
    "        drug_list={}\n",
    "        for i in range(df_drug.count()[0]):\n",
    "            item = df_drug.iloc[i][0]\n",
    "            drug_list[i] = item\n",
    "        print(df_drug.reset_index())\n",
    "        drug_number = int(input('select number to copy: '))\n",
    "        to_copy = drug_list[drug_number]\n",
    "        pyperclip.copy(to_copy)\n",
    "        print(to_copy,' copied')\n",
    "        return to_copy, int(df_drug.query(\"items==@to_copy\")['amount'])"
   ]
  },
  {
   "cell_type": "code",
   "execution_count": null,
   "id": "4dcb47f6",
   "metadata": {
    "scrolled": false
   },
   "outputs": [
    {
     "name": "stdout",
     "output_type": "stream",
     "text": [
      "what is the drug name?neu\n",
      "   index                                              items  amount\n",
      "0     21  T7 / PIRACETAM 400MG - Capsule - [Cerebro - Ne...    3560\n",
      "1     29  T7 / CHLORPROMAZINE 100MG - Tablet - [Neurazin...  151000\n",
      "2     86  Neurovit - أقراص تحتوي علي  الاقل فيتامين ب 1 ...    3000\n",
      "select number to copy: 2\n",
      "Neurovit - أقراص تحتوي علي  الاقل فيتامين ب 1 ( 100مجم), ب 6 (50 مجم ) , ب 12 (250 مكجم ) - Vitamin B containing at least B1 (100 mg ), B6 (50 mg ),B12 (250 mcg )  copied\n"
     ]
    }
   ],
   "source": [
    "while True:\n",
    "    try:\n",
    "        drug = input('what is the drug name?')\n",
    "        name,amount = copy_drug(drug)\n",
    "    except:\n",
    "        print('error')\n",
    "        \n",
    "    inventory = int(input('enter inventory'))\n",
    "    consump = inventory - amount\n",
    "    print('consumption: {}'.format(consump))\n",
    "    pyperclip.copy(abs(consump))\n",
    "    print('copied')\n"
   ]
  },
  {
   "cell_type": "code",
   "execution_count": null,
   "id": "fa23c5c7",
   "metadata": {},
   "outputs": [],
   "source": []
  },
  {
   "cell_type": "code",
   "execution_count": null,
   "id": "fb54ffa0",
   "metadata": {},
   "outputs": [],
   "source": []
  }
 ],
 "metadata": {
  "kernelspec": {
   "display_name": "Python 3 (ipykernel)",
   "language": "python",
   "name": "python3"
  },
  "language_info": {
   "codemirror_mode": {
    "name": "ipython",
    "version": 3
   },
   "file_extension": ".py",
   "mimetype": "text/x-python",
   "name": "python",
   "nbconvert_exporter": "python",
   "pygments_lexer": "ipython3",
   "version": "3.9.12"
  }
 },
 "nbformat": 4,
 "nbformat_minor": 5
}
